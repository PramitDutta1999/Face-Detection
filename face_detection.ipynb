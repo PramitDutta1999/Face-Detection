{
  "nbformat": 4,
  "nbformat_minor": 0,
  "metadata": {
    "colab": {
      "name": "face_detection.ipynb",
      "private_outputs": true,
      "provenance": [],
      "collapsed_sections": []
    },
    "kernelspec": {
      "name": "python3",
      "display_name": "Python 3"
    },
    "language_info": {
      "name": "python"
    },
    "accelerator": "GPU"
  },
  "cells": [
    {
      "cell_type": "code",
      "metadata": {
        "id": "vYcFQlU1zsye"
      },
      "source": [
        "import cv2\n",
        "from google.colab.patches import cv2_imshow"
      ],
      "execution_count": null,
      "outputs": []
    },
    {
      "cell_type": "code",
      "metadata": {
        "id": "RgrWUcFk6BJv"
      },
      "source": [
        "# Create a CascadeClassifier Object\n",
        "#upload the haarcascade_frontalface_default.xml file\n",
        "face_cascade = cv2.CascadeClassifier(\"haarcascade_frontalface_default.xml\")"
      ],
      "execution_count": null,
      "outputs": []
    },
    {
      "cell_type": "code",
      "metadata": {
        "id": "nodzM6NG6Gxz"
      },
      "source": [
        "# Reading the image as it is\n",
        "img = cv2.imread(\"image_path\")\n",
        "# Reading the image as gray scale image\n",
        "gray_img = cv2.cvtColor(img,cv2.COLOR_BGR2GRAY)"
      ],
      "execution_count": null,
      "outputs": []
    },
    {
      "cell_type": "code",
      "metadata": {
        "id": "fjbwA7gN6VKt"
      },
      "source": [
        "# Search the co-ordintes of the image\n",
        "faces = face_cascade.detectMultiScale(gray_img, scaleFactor = 1.05,\n",
        "                                      minNeighbors=5)\n",
        "#how it looks\n",
        "print(type(faces));\n",
        "print(faces);"
      ],
      "execution_count": null,
      "outputs": []
    },
    {
      "cell_type": "code",
      "metadata": {
        "id": "dgOa6qnf6ieE"
      },
      "source": [
        "for x,y,w,h in faces:\n",
        "    img = cv2.rectangle(img, (x,y), (x+w,y+h),(0,255,0),3)\n",
        "\n",
        "resized = cv2.resize(img, (int(img.shape[1]/7),int(img.shape[0]/7)))\n",
        "#jupyter notebook and colab doesn't support imshow\n",
        "#Show the image with matplotlib\n",
        "#cv2.imshow(\"Gray\", resized)"
      ],
      "execution_count": null,
      "outputs": []
    },
    {
      "cell_type": "code",
      "metadata": {
        "id": "Mw0p4TTu6omc"
      },
      "source": [
        "#for colab and notebook\n",
        "%matplotlib inline\n",
        "from matplotlib import pyplot as plt\n",
        "plt.imshow(resized)\n",
        "plt.show()\n",
        "cv2.waitKey(0)\n",
        "cv2.destroyAllWindows()"
      ],
      "execution_count": null,
      "outputs": []
    }
  ]
}